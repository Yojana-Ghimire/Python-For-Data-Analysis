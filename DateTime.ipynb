{
 "cells": [
  {
   "cell_type": "code",
   "execution_count": 64,
   "id": "ad18c0ee-9059-4340-b247-5bf756d10056",
   "metadata": {},
   "outputs": [],
   "source": [
    "import datetime"
   ]
  },
  {
   "cell_type": "code",
   "execution_count": 66,
   "id": "926f374d-4c58-41bd-8cea-79b172138c07",
   "metadata": {},
   "outputs": [
    {
     "name": "stdout",
     "output_type": "stream",
     "text": [
      "2024-11-30 14:57:20.966208\n"
     ]
    }
   ],
   "source": [
    "#current date and time\n",
    "now=datetime.datetime.now()\n",
    "print(now)"
   ]
  },
  {
   "cell_type": "code",
   "execution_count": 68,
   "id": "2b245f57-8ee2-4728-845c-6bed04706d06",
   "metadata": {},
   "outputs": [
    {
     "name": "stdout",
     "output_type": "stream",
     "text": [
      "2024-11-30\n"
     ]
    }
   ],
   "source": [
    "today=datetime.date.today()\n",
    "print(today)"
   ]
  },
  {
   "cell_type": "code",
   "execution_count": 70,
   "id": "66213053-bfed-464f-8fb3-86f962600bf2",
   "metadata": {},
   "outputs": [
    {
     "name": "stdout",
     "output_type": "stream",
     "text": [
      "2024-11-30\n"
     ]
    }
   ],
   "source": [
    "#create date and time object\n",
    "my_date= datetime.date(2024,11,30)\n",
    "print(my_date)"
   ]
  },
  {
   "cell_type": "code",
   "execution_count": 72,
   "id": "5fe6bf51-6c78-4cec-877c-ee6dfea14a6d",
   "metadata": {},
   "outputs": [],
   "source": [
    "my_time=datetime.time(15,30)"
   ]
  },
  {
   "cell_type": "code",
   "execution_count": 74,
   "id": "2f9093d4-b88d-42ee-9c99-8ebc89dad5cf",
   "metadata": {},
   "outputs": [],
   "source": [
    "datetime=datetime.datetime(2024,11,30,10,15)"
   ]
  },
  {
   "cell_type": "code",
   "execution_count": 86,
   "id": "0aa0e7c5-3ec3-44b8-9157-70e5df719aa8",
   "metadata": {},
   "outputs": [
    {
     "name": "stdout",
     "output_type": "stream",
     "text": [
      "2004-11-14\n"
     ]
    }
   ],
   "source": [
    "from datetime import date\n",
    "my_birth=date(2004,11,14)\n",
    "print(my_birth)"
   ]
  },
  {
   "cell_type": "code",
   "execution_count": 94,
   "id": "b92ce555-ba74-4d68-975a-daee3f722e71",
   "metadata": {},
   "outputs": [
    {
     "name": "stdout",
     "output_type": "stream",
     "text": [
      "15:30:00\n"
     ]
    }
   ],
   "source": [
    "import datetime\n",
    "time=datetime.time(15,30,00)\n",
    "print(time)"
   ]
  },
  {
   "cell_type": "code",
   "execution_count": 106,
   "id": "c61377bd-4f07-41db-ae82-bbc288bc1565",
   "metadata": {},
   "outputs": [
    {
     "name": "stdout",
     "output_type": "stream",
     "text": [
      "2024-11-30 15:59:24\n"
     ]
    }
   ],
   "source": [
    "now = datetime.datetime.now()\n",
    "formatted_time=now.strftime(\"%Y-%m-%d %H:%M:%S\")\n",
    "print(formatted_time)"
   ]
  },
  {
   "cell_type": "code",
   "execution_count": 108,
   "id": "e8af30ed-dcfd-40fc-9664-1736a2df458b",
   "metadata": {},
   "outputs": [
    {
     "name": "stdout",
     "output_type": "stream",
     "text": [
      "2024-11-30 15:59:24.509383\n"
     ]
    }
   ],
   "source": [
    "print(now)"
   ]
  },
  {
   "cell_type": "code",
   "execution_count": 112,
   "id": "8194fdea-a537-471a-9d3e-e1f0865f662a",
   "metadata": {},
   "outputs": [
    {
     "name": "stdout",
     "output_type": "stream",
     "text": [
      "2024-11-30 10:15:30\n"
     ]
    }
   ],
   "source": [
    "#Parse a string into datetime object\n",
    "date_str=\"2024-11-30 10:15:30\"\n",
    "parsed_date=datetime.datetime.strptime(date_str, \"%Y-%m-%d %H:%M:%S\")\n",
    "print(parsed_date)"
   ]
  },
  {
   "cell_type": "code",
   "execution_count": 122,
   "id": "48dca40d-eea6-4bfa-9be7-3fd52619b3b2",
   "metadata": {},
   "outputs": [
    {
     "name": "stdout",
     "output_type": "stream",
     "text": [
      "2024-11-30 16:05:01\n"
     ]
    }
   ],
   "source": [
    "current=datetime.datetime.now()\n",
    "formatted =current.strftime(\"%Y-%m-%d %H:%M:%S\")\n",
    "print(formatted)"
   ]
  },
  {
   "cell_type": "code",
   "execution_count": 118,
   "id": "1d021dd1-8ce1-419c-9375-3f687505cf01",
   "metadata": {},
   "outputs": [
    {
     "name": "stdout",
     "output_type": "stream",
     "text": [
      "2024-11-30 16:03:32.702700\n"
     ]
    }
   ],
   "source": [
    "print(current)"
   ]
  },
  {
   "cell_type": "code",
   "execution_count": 126,
   "id": "94fc4280-7823-4d7b-a5b3-ed2679d0fabe",
   "metadata": {},
   "outputs": [
    {
     "name": "stdout",
     "output_type": "stream",
     "text": [
      "2024-11-30 10:15:30\n"
     ]
    }
   ],
   "source": [
    "str_date=\"2024-11-30 10:15:30\"\n",
    "date_parsed = datetime.datetime.strptime(str_date,\"%Y-%m-%d %H:%M:%S\")\n",
    "print(date_parsed)"
   ]
  },
  {
   "cell_type": "code",
   "execution_count": 148,
   "id": "671d0705-739b-4189-b9c9-85b0cc0499b0",
   "metadata": {},
   "outputs": [],
   "source": [
    "#Use timedelta to add or subtract days,hours,second\n",
    "today = datetime.date.today()\n",
    "future_date=today-datetime.timedelta(days=7)"
   ]
  },
  {
   "cell_type": "code",
   "execution_count": 150,
   "id": "d9b37384-2527-4eac-ac43-d75c1ac6ea35",
   "metadata": {},
   "outputs": [
    {
     "name": "stdout",
     "output_type": "stream",
     "text": [
      "2024-11-23\n"
     ]
    }
   ],
   "source": [
    "print(future_date)"
   ]
  },
  {
   "cell_type": "code",
   "execution_count": 162,
   "id": "2369bebd-a51d-4f29-b2f1-0483106a07d6",
   "metadata": {},
   "outputs": [],
   "source": [
    "new_time=today+datetime.timedelta(hours=5)"
   ]
  },
  {
   "cell_type": "code",
   "execution_count": 164,
   "id": "e47be077-bec0-4cc0-bbf0-e4339393fc12",
   "metadata": {},
   "outputs": [
    {
     "name": "stdout",
     "output_type": "stream",
     "text": [
      "2024-11-30\n"
     ]
    }
   ],
   "source": [
    "print(new_time)"
   ]
  },
  {
   "cell_type": "code",
   "execution_count": 174,
   "id": "dc213481-ba19-4d99-8ae9-8466021ec705",
   "metadata": {},
   "outputs": [
    {
     "name": "stdout",
     "output_type": "stream",
     "text": [
      "29 days, 0:00:00\n"
     ]
    }
   ],
   "source": [
    "date1=datetime.date(2024,11,1)\n",
    "date2=datetime.date(2024,11,30)\n",
    "diff=date2-date1\n",
    "print(diff)"
   ]
  },
  {
   "cell_type": "code",
   "execution_count": 178,
   "id": "bccfad3b-0c60-4378-ae60-bd73791d6342",
   "metadata": {},
   "outputs": [
    {
     "data": {
      "text/plain": [
       "29"
      ]
     },
     "execution_count": 178,
     "metadata": {},
     "output_type": "execute_result"
    }
   ],
   "source": [
    "diff.days"
   ]
  },
  {
   "cell_type": "code",
   "execution_count": 203,
   "id": "075625cb-866f-48f4-bfd0-519b4bae7593",
   "metadata": {},
   "outputs": [
    {
     "name": "stdout",
     "output_type": "stream",
     "text": [
      "2024-11-30 10:15:00+05:45\n"
     ]
    }
   ],
   "source": [
    "import datetime\n",
    "from datetime import timezone,timedelta\n",
    "tz=timezone(timedelta(hours=5,minutes=45)) #timezone of nepal\n",
    "datetime_tz=datetime.datetime(2024,11,30,10,15,tzinfo=tz)\n",
    "print(datetime_tz)"
   ]
  },
  {
   "cell_type": "code",
   "execution_count": 211,
   "id": "2781b4b9-2395-441d-8cf6-d4f9d0748164",
   "metadata": {},
   "outputs": [],
   "source": [
    "#use astimezone() to convert between time zones\n",
    "now=datetime.datetime.now()\n",
    "new_timezone=datetime.timezone(datetime.timedelta(hours=-5))\n",
    "converted_time=now.astimezone(new_timezone)"
   ]
  },
  {
   "cell_type": "code",
   "execution_count": null,
   "id": "73f0c61e-ed04-4ad2-9b85-58efecc3c29d",
   "metadata": {},
   "outputs": [],
   "source": []
  },
  {
   "cell_type": "code",
   "execution_count": null,
   "id": "d26ec15c-01c0-459a-8eab-502cf7b711d8",
   "metadata": {},
   "outputs": [],
   "source": []
  }
 ],
 "metadata": {
  "kernelspec": {
   "display_name": "Python 3 (ipykernel)",
   "language": "python",
   "name": "python3"
  },
  "language_info": {
   "codemirror_mode": {
    "name": "ipython",
    "version": 3
   },
   "file_extension": ".py",
   "mimetype": "text/x-python",
   "name": "python",
   "nbconvert_exporter": "python",
   "pygments_lexer": "ipython3",
   "version": "3.11.5"
  }
 },
 "nbformat": 4,
 "nbformat_minor": 5
}
